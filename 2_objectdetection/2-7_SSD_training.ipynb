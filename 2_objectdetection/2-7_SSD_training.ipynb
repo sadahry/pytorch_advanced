{
  "cells": [
    {
      "cell_type": "markdown",
      "metadata": {
        "id": "NRDrOClOJvlA"
      },
      "source": [
        "# 2.7 学習と検証の実施\n",
        "\n",
        "- 本ファイルでは、SSDの学習と検証の実施を行います。手元のマシンで動作を確認後、AWSのGPUマシンで計算します。\n",
        "- p2.xlargeで約6時間かかります。\n"
      ]
    },
    {
      "cell_type": "markdown",
      "metadata": {
        "id": "dQkSZ3f7JvlH"
      },
      "source": [
        "# 学習目標\n",
        "\n",
        "1.\tSSDの学習を実装できるようになる"
      ]
    },
    {
      "cell_type": "markdown",
      "metadata": {
        "id": "E-pUmMgPJvlI"
      },
      "source": [
        "# 事前準備\n",
        "\n",
        "- AWS EC2 のGPUインスタンスを使用します\n",
        "- フォルダ「utils」のssd_model.pyをします"
      ]
    },
    {
      "cell_type": "code",
      "execution_count": 19,
      "metadata": {
        "id": "5wFXuAjsJvlI"
      },
      "outputs": [],
      "source": [
        "# パッケージのimport\n",
        "import os.path as osp\n",
        "import random\n",
        "import time\n",
        "\n",
        "import cv2\n",
        "import numpy as np\n",
        "import pandas as pd\n",
        "import torch\n",
        "import torch.nn as nn\n",
        "import torch.nn.init as init\n",
        "import torch.optim as optim\n",
        "import torch.utils.data as data"
      ]
    },
    {
      "cell_type": "code",
      "execution_count": 20,
      "metadata": {
        "id": "MKIiLcdZJvlJ"
      },
      "outputs": [],
      "source": [
        "# 乱数のシードを設定\n",
        "torch.manual_seed(1234)\n",
        "np.random.seed(1234)\n",
        "random.seed(1234)"
      ]
    },
    {
      "cell_type": "code",
      "execution_count": 21,
      "metadata": {
        "id": "fNcYx2L0JvlK",
        "outputId": "c2e8ec71-fb0c-4dd1-f05c-a1e6bf500a8a"
      },
      "outputs": [
        {
          "name": "stdout",
          "output_type": "stream",
          "text": [
            "使用デバイス： cpu\n"
          ]
        }
      ],
      "source": [
        "device = torch.device(\"cuda:0\" if torch.cuda.is_available() else \"cpu\")\n",
        "print(\"使用デバイス：\", device)"
      ]
    },
    {
      "cell_type": "markdown",
      "metadata": {
        "id": "Q2hwPVpFJvlK"
      },
      "source": [
        "# DatasetとDataLoaderを作成する"
      ]
    },
    {
      "cell_type": "code",
      "execution_count": 22,
      "metadata": {
        "id": "9scicyiOJvlL"
      },
      "outputs": [],
      "source": [
        "from utils.ssd_model import make_datapath_list, VOCDataset, DataTransform, Anno_xml2list, od_collate_fn\n",
        "\n",
        "\n",
        "# ファイルパスのリストを取得\n",
        "rootpath = \"./data/VOCdevkit/VOC2012/\"\n",
        "train_img_list, train_anno_list, val_img_list, val_anno_list = make_datapath_list(\n",
        "    rootpath)\n",
        "\n",
        "# Datasetを作成\n",
        "voc_classes = ['aeroplane', 'bicycle', 'bird', 'boat',\n",
        "               'bottle', 'bus', 'car', 'cat', 'chair',\n",
        "               'cow', 'diningtable', 'dog', 'horse',\n",
        "               'motorbike', 'person', 'pottedplant',\n",
        "               'sheep', 'sofa', 'train', 'tvmonitor']\n",
        "color_mean = (104, 117, 123)  # (BGR)の色の平均値\n",
        "input_size = 300  # 画像のinputサイズを300×300にする\n",
        "\n",
        "train_dataset = VOCDataset(train_img_list, train_anno_list, phase=\"train\", transform=DataTransform(\n",
        "    input_size, color_mean), transform_anno=Anno_xml2list(voc_classes))\n",
        "\n",
        "val_dataset = VOCDataset(val_img_list, val_anno_list, phase=\"val\", transform=DataTransform(\n",
        "    input_size, color_mean), transform_anno=Anno_xml2list(voc_classes))\n",
        "\n",
        "\n",
        "# DataLoaderを作成する\n",
        "batch_size = 32\n",
        "\n",
        "train_dataloader = data.DataLoader(\n",
        "    train_dataset, batch_size=batch_size, shuffle=True, collate_fn=od_collate_fn)\n",
        "\n",
        "val_dataloader = data.DataLoader(\n",
        "    val_dataset, batch_size=batch_size, shuffle=False, collate_fn=od_collate_fn)\n",
        "\n",
        "# 辞書オブジェクトにまとめる\n",
        "dataloaders_dict = {\"train\": train_dataloader, \"val\": val_dataloader}\n"
      ]
    },
    {
      "cell_type": "markdown",
      "metadata": {
        "id": "Vbyl0KAwJvlL"
      },
      "source": [
        "# ネットワークモデルの作成する"
      ]
    },
    {
      "cell_type": "code",
      "execution_count": 23,
      "metadata": {
        "id": "4dFZ6oVjJvlM",
        "outputId": "6e7542ee-79e0-412d-afcd-342f6927eb57"
      },
      "outputs": [
        {
          "name": "stdout",
          "output_type": "stream",
          "text": [
            "使用デバイス： cpu\n",
            "ネットワーク設定完了：学習済みの重みをロードしました\n"
          ]
        }
      ],
      "source": [
        "from utils.ssd_model import SSD\n",
        "\n",
        "# SSD300の設定\n",
        "ssd_cfg = {\n",
        "    'num_classes': 21,  # 背景クラスを含めた合計クラス数\n",
        "    'input_size': 300,  # 画像の入力サイズ\n",
        "    'bbox_aspect_num': [4, 6, 6, 6, 4, 4],  # 出力するDBoxのアスペクト比の種類\n",
        "    'feature_maps': [38, 19, 10, 5, 3, 1],  # 各sourceの画像サイズ\n",
        "    'steps': [8, 16, 32, 64, 100, 300],  # DBOXの大きさを決める\n",
        "    'min_sizes': [30, 60, 111, 162, 213, 264],  # DBOXの大きさを決める\n",
        "    'max_sizes': [60, 111, 162, 213, 264, 315],  # DBOXの大きさを決める\n",
        "    'aspect_ratios': [[2], [2, 3], [2, 3], [2, 3], [2], [2]],\n",
        "}\n",
        "\n",
        "# SSDネットワークモデル\n",
        "net = SSD(phase=\"train\", cfg=ssd_cfg)\n",
        "\n",
        "# SSDの初期の重みを設定\n",
        "# ssdのvgg部分に重みをロードする\n",
        "vgg_weights = torch.load('./weights/vgg16_reducedfc.pth')\n",
        "net.vgg.load_state_dict(vgg_weights)\n",
        "\n",
        "# ssdのその他のネットワークの重みはHeの初期値で初期化\n",
        "\n",
        "\n",
        "def weights_init(m):\n",
        "    if isinstance(m, nn.Conv2d):\n",
        "        init.kaiming_normal_(m.weight.data)\n",
        "        if m.bias is not None:  # バイアス項がある場合\n",
        "            nn.init.constant_(m.bias, 0.0)\n",
        "\n",
        "\n",
        "# Heの初期値を適用\n",
        "net.extras.apply(weights_init)\n",
        "net.loc.apply(weights_init)\n",
        "net.conf.apply(weights_init)\n",
        "\n",
        "# GPUが使えるかを確認\n",
        "device = torch.device(\"cuda:0\" if torch.cuda.is_available() else \"cpu\")\n",
        "print(\"使用デバイス：\", device)\n",
        "\n",
        "print('ネットワーク設定完了：学習済みの重みをロードしました')\n"
      ]
    },
    {
      "cell_type": "markdown",
      "metadata": {
        "id": "c5tGwXegJvlM"
      },
      "source": [
        "# 損失関数と最適化手法を定義する"
      ]
    },
    {
      "cell_type": "code",
      "execution_count": 24,
      "metadata": {
        "id": "IkZq2BPeJvlM"
      },
      "outputs": [],
      "source": [
        "from utils.ssd_model import MultiBoxLoss\n",
        "\n",
        "# 損失関数の設定\n",
        "criterion = MultiBoxLoss(jaccard_thresh=0.5, neg_pos=3, device=device)\n",
        "\n",
        "# 最適化手法の設定\n",
        "optimizer = optim.SGD(net.parameters(), lr=1e-3,\n",
        "                      momentum=0.9, weight_decay=5e-4)\n"
      ]
    },
    {
      "cell_type": "markdown",
      "metadata": {
        "id": "PXpicFdQJvlN"
      },
      "source": [
        "# 学習・検証を実施する"
      ]
    },
    {
      "cell_type": "code",
      "execution_count": 25,
      "metadata": {
        "id": "h5BNcGMKJvlN"
      },
      "outputs": [],
      "source": [
        "# モデルを学習させる関数を作成\n",
        "\n",
        "\n",
        "def train_model(net, dataloaders_dict, criterion, optimizer, num_epochs):\n",
        "\n",
        "    # GPUが使えるかを確認\n",
        "    device = torch.device(\"cuda:0\" if torch.cuda.is_available() else \"cpu\")\n",
        "    print(\"使用デバイス：\", device)\n",
        "\n",
        "    # ネットワークをGPUへ\n",
        "    net.to(device)\n",
        "\n",
        "    # ネットワークがある程度固定であれば、高速化させる\n",
        "    torch.backends.cudnn.benchmark = True\n",
        "\n",
        "    # イテレーションカウンタをセット\n",
        "    iteration = 1\n",
        "    epoch_train_loss = 0.0  # epochの損失和\n",
        "    epoch_val_loss = 0.0  # epochの損失和\n",
        "    logs = []\n",
        "\n",
        "    # epochのループ\n",
        "    for epoch in range(num_epochs+1):\n",
        "\n",
        "        # 開始時刻を保存\n",
        "        t_epoch_start = time.time()\n",
        "        t_iter_start = time.time()\n",
        "\n",
        "        print('-------------')\n",
        "        print('Epoch {}/{}'.format(epoch+1, num_epochs))\n",
        "        print('-------------')\n",
        "\n",
        "        # epochごとの訓練と検証のループ\n",
        "        for phase in ['train', 'val']:\n",
        "            if phase == 'train':\n",
        "                net.train()  # モデルを訓練モードに\n",
        "                print('（train）')\n",
        "            else:\n",
        "                if((epoch+1) % 10 == 0):\n",
        "                    net.eval()   # モデルを検証モードに\n",
        "                    print('-------------')\n",
        "                    print('（val）')\n",
        "                else:\n",
        "                    # 検証は10回に1回だけ行う\n",
        "                    continue\n",
        "\n",
        "            # データローダーからminibatchずつ取り出すループ\n",
        "            for images, targets in dataloaders_dict[phase]:\n",
        "\n",
        "                # GPUが使えるならGPUにデータを送る\n",
        "                images = images.to(device)\n",
        "                targets = [ann.to(device)\n",
        "                           for ann in targets]  # リストの各要素のテンソルをGPUへ\n",
        "\n",
        "                # optimizerを初期化\n",
        "                optimizer.zero_grad()\n",
        "\n",
        "                # 順伝搬（forward）計算\n",
        "                with torch.set_grad_enabled(phase == 'train'):\n",
        "                    # 順伝搬（forward）計算\n",
        "                    outputs = net(images)\n",
        "\n",
        "                    # 損失の計算\n",
        "                    loss_l, loss_c = criterion(outputs, targets)\n",
        "                    loss = loss_l + loss_c\n",
        "\n",
        "                    # 訓練時はバックプロパゲーション\n",
        "                    if phase == 'train':\n",
        "                        loss.backward()  # 勾配の計算\n",
        "\n",
        "                        # 勾配が大きくなりすぎると計算が不安定になるので、clipで最大でも勾配2.0に留める\n",
        "                        nn.utils.clip_grad_value_(\n",
        "                            net.parameters(), clip_value=2.0)\n",
        "\n",
        "                        optimizer.step()  # パラメータ更新\n",
        "\n",
        "                        if (iteration % 10 == 0):  # 10iterに1度、lossを表示\n",
        "                            t_iter_finish = time.time()\n",
        "                            duration = t_iter_finish - t_iter_start\n",
        "                            print('イテレーション {} || Loss: {:.4f} || 10iter: {:.4f} sec.'.format(\n",
        "                                iteration, loss.item(), duration))\n",
        "                            t_iter_start = time.time()\n",
        "\n",
        "                        epoch_train_loss += loss.item()\n",
        "                        iteration += 1\n",
        "\n",
        "                    # 検証時\n",
        "                    else:\n",
        "                        epoch_val_loss += loss.item()\n",
        "\n",
        "        # epochのphaseごとのloss （Issue158での誤植修正）\n",
        "        t_epoch_finish = time.time()\n",
        "        print('-------------')\n",
        "        print('epoch {} || Epoch_TRAIN_Loss:{:.4f} ||Epoch_VAL_Loss:{:.4f}'.format(\n",
        "            epoch+1, epoch_train_loss, epoch_val_loss))\n",
        "        print('timer:  {:.4f} sec.'.format(t_epoch_finish - t_epoch_start))\n",
        "        t_epoch_start = time.time()\n",
        "\n",
        "        # ログを保存\n",
        "        log_epoch = {'epoch': epoch+1,\n",
        "                     'train_loss': epoch_train_loss, 'val_loss': epoch_val_loss}\n",
        "        logs.append(log_epoch)\n",
        "        df = pd.DataFrame(logs)\n",
        "        df.to_csv(\"log_output.csv\")\n",
        "\n",
        "        epoch_train_loss = 0.0  # epochの損失和\n",
        "        epoch_val_loss = 0.0  # epochの損失和\n",
        "\n",
        "        # ネットワークを保存する\n",
        "        if ((epoch+1) % 10 == 0):\n",
        "            torch.save(net.state_dict(), 'weights/ssd300_' +\n",
        "                       str(epoch+1) + '.pth')\n"
      ]
    },
    {
      "cell_type": "code",
      "execution_count": 26,
      "metadata": {
        "id": "BuOV3vkiJvlO",
        "outputId": "0a817057-95b0-4c31-f25a-9649d1d21a2f"
      },
      "outputs": [
        {
          "name": "stdout",
          "output_type": "stream",
          "text": [
            "使用デバイス： cpu\n",
            "-------------\n",
            "Epoch 1/50\n",
            "-------------\n",
            "（train）\n",
            "イテレーション 10 || Loss: 16.5946 || 10iter: 238.6400 sec.\n",
            "イテレーション 20 || Loss: 12.9359 || 10iter: 229.9261 sec.\n",
            "イテレーション 30 || Loss: 10.3333 || 10iter: 216.5402 sec.\n",
            "イテレーション 40 || Loss: 8.8764 || 10iter: 216.8771 sec.\n",
            "イテレーション 50 || Loss: 8.0001 || 10iter: 215.1483 sec.\n",
            "イテレーション 60 || Loss: 7.9889 || 10iter: 217.0604 sec.\n",
            "イテレーション 70 || Loss: 8.2060 || 10iter: 215.9383 sec.\n",
            "イテレーション 80 || Loss: 7.4541 || 10iter: 215.9049 sec.\n",
            "イテレーション 90 || Loss: 7.9851 || 10iter: 215.8946 sec.\n",
            "イテレーション 100 || Loss: 7.6231 || 10iter: 215.6451 sec.\n",
            "イテレーション 110 || Loss: 7.6616 || 10iter: 216.2955 sec.\n",
            "イテレーション 120 || Loss: 7.1604 || 10iter: 215.0701 sec.\n",
            "イテレーション 130 || Loss: 7.6439 || 10iter: 214.8962 sec.\n",
            "イテレーション 140 || Loss: 7.5633 || 10iter: 215.6857 sec.\n",
            "イテレーション 150 || Loss: 7.2468 || 10iter: 215.2398 sec.\n",
            "イテレーション 160 || Loss: 7.6056 || 10iter: 215.6271 sec.\n",
            "イテレーション 170 || Loss: 7.1819 || 10iter: 217.3203 sec.\n",
            "-------------\n",
            "epoch 1 || Epoch_TRAIN_Loss:1625.0463 ||Epoch_VAL_Loss:0.0000\n",
            "timer:  3894.8028 sec.\n",
            "-------------\n",
            "Epoch 2/50\n",
            "-------------\n",
            "（train）\n"
          ]
        },
        {
          "name": "stderr",
          "output_type": "stream",
          "text": [
            "/Users/sadahiroyoshi/Documents/apps/mygithub/pytorch_advanced/2_objectdetection/utils/data_augumentation.py:246: VisibleDeprecationWarning: Creating an ndarray from ragged nested sequences (which is a list-or-tuple of lists-or-tuples-or ndarrays with different lengths or shapes) is deprecated. If you meant to do this, you must specify 'dtype=object' when creating the ndarray.\n",
            "  mode = random.choice(self.sample_options)\n"
          ]
        },
        {
          "name": "stdout",
          "output_type": "stream",
          "text": [
            "イテレーション 180 || Loss: 7.4451 || 10iter: 21.8092 sec.\n",
            "イテレーション 190 || Loss: 7.2548 || 10iter: 216.0269 sec.\n",
            "イテレーション 200 || Loss: 7.0377 || 10iter: 215.0914 sec.\n",
            "イテレーション 210 || Loss: 6.6003 || 10iter: 215.8473 sec.\n",
            "イテレーション 220 || Loss: 6.9190 || 10iter: 215.1952 sec.\n",
            "イテレーション 230 || Loss: 7.1063 || 10iter: 215.8553 sec.\n",
            "イテレーション 240 || Loss: 7.0255 || 10iter: 215.1076 sec.\n",
            "イテレーション 250 || Loss: 7.0571 || 10iter: 216.2073 sec.\n",
            "イテレーション 260 || Loss: 6.8714 || 10iter: 216.0279 sec.\n",
            "イテレーション 270 || Loss: 7.1949 || 10iter: 214.8178 sec.\n",
            "イテレーション 280 || Loss: 6.6342 || 10iter: 215.1923 sec.\n",
            "イテレーション 290 || Loss: 6.5217 || 10iter: 214.3552 sec.\n",
            "イテレーション 300 || Loss: 6.2998 || 10iter: 214.8561 sec.\n",
            "イテレーション 310 || Loss: 6.8146 || 10iter: 213.5292 sec.\n",
            "イテレーション 320 || Loss: 6.6065 || 10iter: 215.2885 sec.\n",
            "イテレーション 330 || Loss: 7.0427 || 10iter: 215.4124 sec.\n",
            "イテレーション 340 || Loss: 6.3437 || 10iter: 216.7173 sec.\n",
            "イテレーション 350 || Loss: 6.8867 || 10iter: 214.2997 sec.\n",
            "-------------\n",
            "epoch 2 || Epoch_TRAIN_Loss:1248.5896 ||Epoch_VAL_Loss:0.0000\n",
            "timer:  3845.3090 sec.\n",
            "-------------\n",
            "Epoch 3/50\n",
            "-------------\n",
            "（train）\n"
          ]
        },
        {
          "name": "stderr",
          "output_type": "stream",
          "text": [
            "/Users/sadahiroyoshi/Documents/apps/mygithub/pytorch_advanced/2_objectdetection/utils/data_augumentation.py:246: VisibleDeprecationWarning: Creating an ndarray from ragged nested sequences (which is a list-or-tuple of lists-or-tuples-or ndarrays with different lengths or shapes) is deprecated. If you meant to do this, you must specify 'dtype=object' when creating the ndarray.\n",
            "  mode = random.choice(self.sample_options)\n"
          ]
        },
        {
          "name": "stdout",
          "output_type": "stream",
          "text": [
            "イテレーション 360 || Loss: 6.6364 || 10iter: 42.7014 sec.\n",
            "イテレーション 370 || Loss: 6.5726 || 10iter: 213.5779 sec.\n",
            "イテレーション 380 || Loss: 6.5111 || 10iter: 215.1523 sec.\n",
            "イテレーション 390 || Loss: 6.6028 || 10iter: 215.5877 sec.\n",
            "イテレーション 400 || Loss: 7.5662 || 10iter: 215.3996 sec.\n",
            "イテレーション 410 || Loss: 6.5893 || 10iter: 214.2125 sec.\n",
            "イテレーション 420 || Loss: 6.5986 || 10iter: 214.4445 sec.\n",
            "イテレーション 430 || Loss: 6.4346 || 10iter: 215.3139 sec.\n",
            "イテレーション 440 || Loss: 6.7460 || 10iter: 215.2642 sec.\n",
            "イテレーション 450 || Loss: 6.6850 || 10iter: 215.0733 sec.\n",
            "イテレーション 460 || Loss: 6.4776 || 10iter: 214.8917 sec.\n",
            "イテレーション 470 || Loss: 6.5756 || 10iter: 215.5516 sec.\n",
            "イテレーション 480 || Loss: 6.4453 || 10iter: 214.4369 sec.\n",
            "イテレーション 490 || Loss: 6.6973 || 10iter: 214.9562 sec.\n",
            "イテレーション 500 || Loss: 6.3156 || 10iter: 215.4299 sec.\n",
            "イテレーション 510 || Loss: 6.2098 || 10iter: 216.7683 sec.\n",
            "イテレーション 520 || Loss: 6.5111 || 10iter: 214.0202 sec.\n",
            "イテレーション 530 || Loss: 6.3186 || 10iter: 214.7340 sec.\n",
            "-------------\n",
            "epoch 3 || Epoch_TRAIN_Loss:1173.8995 ||Epoch_VAL_Loss:0.0000\n",
            "timer:  3840.7489 sec.\n",
            "-------------\n",
            "Epoch 4/50\n",
            "-------------\n",
            "（train）\n"
          ]
        },
        {
          "name": "stderr",
          "output_type": "stream",
          "text": [
            "/Users/sadahiroyoshi/Documents/apps/mygithub/pytorch_advanced/2_objectdetection/utils/data_augumentation.py:246: VisibleDeprecationWarning: Creating an ndarray from ragged nested sequences (which is a list-or-tuple of lists-or-tuples-or ndarrays with different lengths or shapes) is deprecated. If you meant to do this, you must specify 'dtype=object' when creating the ndarray.\n",
            "  mode = random.choice(self.sample_options)\n"
          ]
        },
        {
          "name": "stdout",
          "output_type": "stream",
          "text": [
            "イテレーション 540 || Loss: 6.1099 || 10iter: 64.2022 sec.\n",
            "イテレーション 550 || Loss: 6.7054 || 10iter: 215.2001 sec.\n",
            "イテレーション 560 || Loss: 6.7061 || 10iter: 214.6401 sec.\n",
            "イテレーション 570 || Loss: 6.0778 || 10iter: 215.6910 sec.\n",
            "イテレーション 580 || Loss: 6.4680 || 10iter: 215.1765 sec.\n",
            "イテレーション 590 || Loss: 6.1907 || 10iter: 218.1282 sec.\n",
            "イテレーション 600 || Loss: 6.6295 || 10iter: 217.2360 sec.\n",
            "イテレーション 610 || Loss: 6.7159 || 10iter: 216.5836 sec.\n",
            "イテレーション 620 || Loss: 5.9282 || 10iter: 215.8446 sec.\n",
            "イテレーション 630 || Loss: 6.4060 || 10iter: 215.5684 sec.\n",
            "イテレーション 640 || Loss: 6.2201 || 10iter: 215.2138 sec.\n",
            "イテレーション 650 || Loss: 5.8965 || 10iter: 214.9760 sec.\n",
            "イテレーション 660 || Loss: 6.1709 || 10iter: 215.6052 sec.\n",
            "イテレーション 670 || Loss: 6.5009 || 10iter: 215.8631 sec.\n",
            "イテレーション 680 || Loss: 6.3304 || 10iter: 216.2448 sec.\n",
            "イテレーション 690 || Loss: 6.0322 || 10iter: 213.9849 sec.\n",
            "イテレーション 700 || Loss: 6.2938 || 10iter: 213.9251 sec.\n",
            "イテレーション 710 || Loss: 6.7468 || 10iter: 215.0612 sec.\n",
            "-------------\n",
            "epoch 4 || Epoch_TRAIN_Loss:1119.1549 ||Epoch_VAL_Loss:0.0000\n",
            "timer:  3851.2135 sec.\n",
            "-------------\n",
            "Epoch 5/50\n",
            "-------------\n",
            "（train）\n"
          ]
        },
        {
          "name": "stderr",
          "output_type": "stream",
          "text": [
            "/Users/sadahiroyoshi/Documents/apps/mygithub/pytorch_advanced/2_objectdetection/utils/data_augumentation.py:246: VisibleDeprecationWarning: Creating an ndarray from ragged nested sequences (which is a list-or-tuple of lists-or-tuples-or ndarrays with different lengths or shapes) is deprecated. If you meant to do this, you must specify 'dtype=object' when creating the ndarray.\n",
            "  mode = random.choice(self.sample_options)\n"
          ]
        },
        {
          "name": "stdout",
          "output_type": "stream",
          "text": [
            "イテレーション 720 || Loss: 6.1112 || 10iter: 86.3042 sec.\n",
            "イテレーション 730 || Loss: 5.9601 || 10iter: 214.1208 sec.\n",
            "イテレーション 740 || Loss: 6.6615 || 10iter: 214.5000 sec.\n",
            "イテレーション 750 || Loss: 5.6234 || 10iter: 214.2674 sec.\n",
            "イテレーション 760 || Loss: 5.9773 || 10iter: 216.8764 sec.\n",
            "イテレーション 770 || Loss: 5.8021 || 10iter: 214.4936 sec.\n",
            "イテレーション 780 || Loss: 5.7368 || 10iter: 215.1338 sec.\n",
            "イテレーション 790 || Loss: 6.3134 || 10iter: 215.0521 sec.\n",
            "イテレーション 800 || Loss: 6.1228 || 10iter: 215.4985 sec.\n",
            "イテレーション 810 || Loss: 6.3915 || 10iter: 215.5909 sec.\n",
            "イテレーション 820 || Loss: 6.3487 || 10iter: 215.6176 sec.\n",
            "イテレーション 830 || Loss: 5.7825 || 10iter: 215.4004 sec.\n",
            "イテレーション 840 || Loss: 5.8818 || 10iter: 217.9162 sec.\n",
            "イテレーション 850 || Loss: 5.9969 || 10iter: 215.6858 sec.\n",
            "イテレーション 860 || Loss: 5.8750 || 10iter: 215.6548 sec.\n",
            "イテレーション 870 || Loss: 6.0507 || 10iter: 215.6990 sec.\n",
            "イテレーション 880 || Loss: 6.0257 || 10iter: 216.4612 sec.\n",
            "イテレーション 890 || Loss: 6.3109 || 10iter: 216.5461 sec.\n",
            "-------------\n",
            "epoch 5 || Epoch_TRAIN_Loss:1078.6294 ||Epoch_VAL_Loss:0.0000\n",
            "timer:  3852.1058 sec.\n",
            "-------------\n",
            "Epoch 6/50\n",
            "-------------\n",
            "（train）\n"
          ]
        },
        {
          "name": "stderr",
          "output_type": "stream",
          "text": [
            "/Users/sadahiroyoshi/Documents/apps/mygithub/pytorch_advanced/2_objectdetection/utils/data_augumentation.py:246: VisibleDeprecationWarning: Creating an ndarray from ragged nested sequences (which is a list-or-tuple of lists-or-tuples-or ndarrays with different lengths or shapes) is deprecated. If you meant to do this, you must specify 'dtype=object' when creating the ndarray.\n",
            "  mode = random.choice(self.sample_options)\n"
          ]
        },
        {
          "name": "stdout",
          "output_type": "stream",
          "text": [
            "イテレーション 900 || Loss: 5.9707 || 10iter: 108.6911 sec.\n",
            "イテレーション 910 || Loss: 5.8503 || 10iter: 216.8366 sec.\n",
            "イテレーション 920 || Loss: 5.6606 || 10iter: 215.2537 sec.\n",
            "イテレーション 930 || Loss: 5.8018 || 10iter: 216.4092 sec.\n",
            "イテレーション 940 || Loss: 5.4508 || 10iter: 215.4078 sec.\n",
            "イテレーション 950 || Loss: 6.0326 || 10iter: 216.6498 sec.\n",
            "イテレーション 960 || Loss: 6.1346 || 10iter: 215.1427 sec.\n",
            "イテレーション 970 || Loss: 6.1081 || 10iter: 216.5487 sec.\n",
            "イテレーション 980 || Loss: 5.9032 || 10iter: 216.0463 sec.\n",
            "イテレーション 990 || Loss: 5.2367 || 10iter: 216.5128 sec.\n",
            "イテレーション 1000 || Loss: 5.8533 || 10iter: 216.6742 sec.\n",
            "イテレーション 1010 || Loss: 5.7971 || 10iter: 218.2052 sec.\n",
            "イテレーション 1020 || Loss: 5.7625 || 10iter: 214.9737 sec.\n",
            "イテレーション 1030 || Loss: 5.9010 || 10iter: 214.4318 sec.\n",
            "イテレーション 1040 || Loss: 5.4638 || 10iter: 215.2508 sec.\n",
            "イテレーション 1050 || Loss: 5.6871 || 10iter: 214.9111 sec.\n",
            "イテレーション 1060 || Loss: 5.5380 || 10iter: 215.5755 sec.\n",
            "イテレーション 1070 || Loss: 5.8101 || 10iter: 214.9396 sec.\n",
            "-------------\n",
            "epoch 6 || Epoch_TRAIN_Loss:1038.0319 ||Epoch_VAL_Loss:0.0000\n",
            "timer:  3857.0173 sec.\n",
            "-------------\n",
            "Epoch 7/50\n",
            "-------------\n",
            "（train）\n"
          ]
        },
        {
          "name": "stderr",
          "output_type": "stream",
          "text": [
            "/Users/sadahiroyoshi/Documents/apps/mygithub/pytorch_advanced/2_objectdetection/utils/data_augumentation.py:246: VisibleDeprecationWarning: Creating an ndarray from ragged nested sequences (which is a list-or-tuple of lists-or-tuples-or ndarrays with different lengths or shapes) is deprecated. If you meant to do this, you must specify 'dtype=object' when creating the ndarray.\n",
            "  mode = random.choice(self.sample_options)\n"
          ]
        },
        {
          "name": "stdout",
          "output_type": "stream",
          "text": [
            "イテレーション 1080 || Loss: 5.6756 || 10iter: 129.4393 sec.\n",
            "イテレーション 1090 || Loss: 5.3743 || 10iter: 215.8624 sec.\n",
            "イテレーション 1100 || Loss: 5.9287 || 10iter: 215.5560 sec.\n",
            "イテレーション 1110 || Loss: 5.1530 || 10iter: 215.5161 sec.\n",
            "イテレーション 1120 || Loss: 5.3297 || 10iter: 215.8862 sec.\n",
            "イテレーション 1130 || Loss: 5.4154 || 10iter: 216.3410 sec.\n",
            "イテレーション 1140 || Loss: 5.5255 || 10iter: 214.7113 sec.\n",
            "イテレーション 1150 || Loss: 5.6380 || 10iter: 214.2881 sec.\n",
            "イテレーション 1160 || Loss: 5.5095 || 10iter: 215.0716 sec.\n",
            "イテレーション 1170 || Loss: 4.8615 || 10iter: 215.1999 sec.\n",
            "イテレーション 1180 || Loss: 6.0056 || 10iter: 215.9044 sec.\n",
            "イテレーション 1190 || Loss: 5.8842 || 10iter: 214.4919 sec.\n",
            "イテレーション 1200 || Loss: 5.3901 || 10iter: 215.6950 sec.\n",
            "イテレーション 1210 || Loss: 5.9412 || 10iter: 214.6272 sec.\n",
            "イテレーション 1220 || Loss: 5.5886 || 10iter: 212.9429 sec.\n",
            "イテレーション 1230 || Loss: 6.0708 || 10iter: 213.2140 sec.\n",
            "イテレーション 1240 || Loss: 5.5347 || 10iter: 212.8586 sec.\n",
            "イテレーション 1250 || Loss: 5.7889 || 10iter: 213.2493 sec.\n",
            "-------------\n",
            "epoch 7 || Epoch_TRAIN_Loss:1014.6497 ||Epoch_VAL_Loss:0.0000\n",
            "timer:  3837.1509 sec.\n",
            "-------------\n",
            "Epoch 8/50\n",
            "-------------\n",
            "（train）\n"
          ]
        },
        {
          "name": "stderr",
          "output_type": "stream",
          "text": [
            "/Users/sadahiroyoshi/Documents/apps/mygithub/pytorch_advanced/2_objectdetection/utils/data_augumentation.py:246: VisibleDeprecationWarning: Creating an ndarray from ragged nested sequences (which is a list-or-tuple of lists-or-tuples-or ndarrays with different lengths or shapes) is deprecated. If you meant to do this, you must specify 'dtype=object' when creating the ndarray.\n",
            "  mode = random.choice(self.sample_options)\n"
          ]
        },
        {
          "name": "stdout",
          "output_type": "stream",
          "text": [
            "イテレーション 1260 || Loss: 5.4709 || 10iter: 151.4659 sec.\n",
            "イテレーション 1270 || Loss: 5.9279 || 10iter: 214.7614 sec.\n",
            "イテレーション 1280 || Loss: 5.3829 || 10iter: 213.2988 sec.\n",
            "イテレーション 1290 || Loss: 5.3238 || 10iter: 214.1509 sec.\n",
            "イテレーション 1300 || Loss: 5.4994 || 10iter: 213.3563 sec.\n",
            "イテレーション 1310 || Loss: 5.2997 || 10iter: 213.3843 sec.\n",
            "イテレーション 1320 || Loss: 5.2451 || 10iter: 214.4221 sec.\n",
            "イテレーション 1330 || Loss: 5.5875 || 10iter: 213.2484 sec.\n",
            "イテレーション 1340 || Loss: 5.3049 || 10iter: 214.3623 sec.\n",
            "イテレーション 1350 || Loss: 5.7668 || 10iter: 216.4290 sec.\n",
            "イテレーション 1360 || Loss: 5.5956 || 10iter: 213.6861 sec.\n",
            "イテレーション 1370 || Loss: 5.0313 || 10iter: 213.2459 sec.\n",
            "イテレーション 1380 || Loss: 5.4365 || 10iter: 213.3872 sec.\n",
            "イテレーション 1390 || Loss: 5.4366 || 10iter: 214.3327 sec.\n",
            "イテレーション 1400 || Loss: 5.1547 || 10iter: 214.3572 sec.\n",
            "イテレーション 1410 || Loss: 5.9205 || 10iter: 214.3867 sec.\n",
            "イテレーション 1420 || Loss: 5.1969 || 10iter: 213.3368 sec.\n",
            "イテレーション 1430 || Loss: 5.6347 || 10iter: 217.0170 sec.\n",
            "-------------\n",
            "epoch 8 || Epoch_TRAIN_Loss:976.0425 ||Epoch_VAL_Loss:0.0000\n",
            "timer:  3828.2984 sec.\n",
            "-------------\n",
            "Epoch 9/50\n",
            "-------------\n",
            "（train）\n"
          ]
        },
        {
          "name": "stderr",
          "output_type": "stream",
          "text": [
            "/Users/sadahiroyoshi/Documents/apps/mygithub/pytorch_advanced/2_objectdetection/utils/data_augumentation.py:246: VisibleDeprecationWarning: Creating an ndarray from ragged nested sequences (which is a list-or-tuple of lists-or-tuples-or ndarrays with different lengths or shapes) is deprecated. If you meant to do this, you must specify 'dtype=object' when creating the ndarray.\n",
            "  mode = random.choice(self.sample_options)\n"
          ]
        },
        {
          "name": "stdout",
          "output_type": "stream",
          "text": [
            "イテレーション 1440 || Loss: 5.5713 || 10iter: 171.1314 sec.\n",
            "イテレーション 1450 || Loss: 5.2923 || 10iter: 214.9565 sec.\n",
            "イテレーション 1460 || Loss: 5.3468 || 10iter: 215.4265 sec.\n",
            "イテレーション 1470 || Loss: 5.5468 || 10iter: 214.9771 sec.\n",
            "イテレーション 1480 || Loss: 5.4974 || 10iter: 214.9469 sec.\n",
            "イテレーション 1490 || Loss: 4.9402 || 10iter: 214.8934 sec.\n",
            "イテレーション 1500 || Loss: 5.5895 || 10iter: 214.8479 sec.\n",
            "イテレーション 1510 || Loss: 5.2040 || 10iter: 215.6989 sec.\n",
            "イテレーション 1520 || Loss: 5.1355 || 10iter: 215.9055 sec.\n",
            "イテレーション 1530 || Loss: 5.4075 || 10iter: 215.4739 sec.\n",
            "イテレーション 1540 || Loss: 5.5022 || 10iter: 215.0113 sec.\n",
            "イテレーション 1550 || Loss: 5.1965 || 10iter: 215.2376 sec.\n",
            "イテレーション 1560 || Loss: 5.4826 || 10iter: 215.2012 sec.\n",
            "イテレーション 1570 || Loss: 5.8018 || 10iter: 215.7488 sec.\n",
            "イテレーション 1580 || Loss: 5.3679 || 10iter: 214.8273 sec.\n",
            "イテレーション 1590 || Loss: 5.1407 || 10iter: 215.1352 sec.\n",
            "イテレーション 1600 || Loss: 5.1371 || 10iter: 215.6262 sec.\n",
            "イテレーション 1610 || Loss: 5.5149 || 10iter: 214.5803 sec.\n",
            "-------------\n",
            "epoch 9 || Epoch_TRAIN_Loss:947.7553 ||Epoch_VAL_Loss:0.0000\n",
            "timer:  3843.6300 sec.\n",
            "-------------\n",
            "Epoch 10/50\n",
            "-------------\n",
            "（train）\n"
          ]
        },
        {
          "name": "stderr",
          "output_type": "stream",
          "text": [
            "/Users/sadahiroyoshi/Documents/apps/mygithub/pytorch_advanced/2_objectdetection/utils/data_augumentation.py:246: VisibleDeprecationWarning: Creating an ndarray from ragged nested sequences (which is a list-or-tuple of lists-or-tuples-or ndarrays with different lengths or shapes) is deprecated. If you meant to do this, you must specify 'dtype=object' when creating the ndarray.\n",
            "  mode = random.choice(self.sample_options)\n"
          ]
        },
        {
          "name": "stdout",
          "output_type": "stream",
          "text": [
            "イテレーション 1620 || Loss: 5.5229 || 10iter: 193.8986 sec.\n",
            "イテレーション 1630 || Loss: 5.1680 || 10iter: 214.6765 sec.\n",
            "イテレーション 1640 || Loss: 5.5571 || 10iter: 214.7158 sec.\n",
            "イテレーション 1650 || Loss: 5.2325 || 10iter: 214.6484 sec.\n",
            "イテレーション 1660 || Loss: 5.2923 || 10iter: 215.2963 sec.\n",
            "イテレーション 1670 || Loss: 5.4565 || 10iter: 216.6383 sec.\n",
            "イテレーション 1680 || Loss: 5.3616 || 10iter: 216.5838 sec.\n",
            "イテレーション 1690 || Loss: 5.2591 || 10iter: 213.5074 sec.\n",
            "イテレーション 1700 || Loss: 5.0713 || 10iter: 211.8473 sec.\n",
            "イテレーション 1710 || Loss: 5.0397 || 10iter: 211.7026 sec.\n",
            "イテレーション 1720 || Loss: 4.5812 || 10iter: 211.2701 sec.\n",
            "イテレーション 1730 || Loss: 5.3289 || 10iter: 210.9493 sec.\n",
            "イテレーション 1740 || Loss: 5.5889 || 10iter: 234.2982 sec.\n",
            "イテレーション 1750 || Loss: 5.1611 || 10iter: 237.9036 sec.\n",
            "イテレーション 1760 || Loss: 5.6562 || 10iter: 233.1985 sec.\n",
            "イテレーション 1770 || Loss: 5.2292 || 10iter: 231.5594 sec.\n",
            "イテレーション 1780 || Loss: 4.8117 || 10iter: 229.4375 sec.\n",
            "イテレーション 1790 || Loss: 5.0050 || 10iter: 225.1627 sec.\n",
            "-------------\n",
            "（val）\n",
            "-------------\n",
            "epoch 10 || Epoch_TRAIN_Loss:932.2303 ||Epoch_VAL_Loss:949.9582\n",
            "timer:  5351.1725 sec.\n",
            "-------------\n",
            "Epoch 11/50\n",
            "-------------\n",
            "（train）\n"
          ]
        },
        {
          "name": "stderr",
          "output_type": "stream",
          "text": [
            "/Users/sadahiroyoshi/Documents/apps/mygithub/pytorch_advanced/2_objectdetection/utils/data_augumentation.py:246: VisibleDeprecationWarning: Creating an ndarray from ragged nested sequences (which is a list-or-tuple of lists-or-tuples-or ndarrays with different lengths or shapes) is deprecated. If you meant to do this, you must specify 'dtype=object' when creating the ndarray.\n",
            "  mode = random.choice(self.sample_options)\n"
          ]
        },
        {
          "name": "stdout",
          "output_type": "stream",
          "text": [
            "イテレーション 1800 || Loss: 4.5148 || 10iter: 225.7544 sec.\n",
            "イテレーション 1810 || Loss: 5.1542 || 10iter: 223.0408 sec.\n",
            "イテレーション 1820 || Loss: 5.2313 || 10iter: 218.3191 sec.\n",
            "イテレーション 1830 || Loss: 5.2597 || 10iter: 212.9581 sec.\n",
            "イテレーション 1840 || Loss: 5.4109 || 10iter: 212.6392 sec.\n",
            "イテレーション 1850 || Loss: 4.6553 || 10iter: 225.0844 sec.\n",
            "イテレーション 1860 || Loss: 4.6337 || 10iter: 237.3106 sec.\n",
            "イテレーション 1870 || Loss: 5.2947 || 10iter: 234.7673 sec.\n",
            "イテレーション 1880 || Loss: 4.6620 || 10iter: 245.5181 sec.\n",
            "イテレーション 1890 || Loss: 4.6565 || 10iter: 233.5928 sec.\n",
            "イテレーション 1900 || Loss: 4.8456 || 10iter: 239.0654 sec.\n",
            "イテレーション 1910 || Loss: 4.7053 || 10iter: 243.0461 sec.\n",
            "イテレーション 1920 || Loss: 5.0820 || 10iter: 237.7376 sec.\n",
            "イテレーション 1930 || Loss: 5.0329 || 10iter: 243.6958 sec.\n",
            "イテレーション 1940 || Loss: 4.6764 || 10iter: 238.1778 sec.\n",
            "イテレーション 1950 || Loss: 5.2031 || 10iter: 233.4302 sec.\n",
            "イテレーション 1960 || Loss: 4.8201 || 10iter: 236.0049 sec.\n",
            "-------------\n",
            "epoch 11 || Epoch_TRAIN_Loss:910.9503 ||Epoch_VAL_Loss:0.0000\n",
            "timer:  4147.0269 sec.\n",
            "-------------\n",
            "Epoch 12/50\n",
            "-------------\n",
            "（train）\n"
          ]
        },
        {
          "name": "stderr",
          "output_type": "stream",
          "text": [
            "/Users/sadahiroyoshi/Documents/apps/mygithub/pytorch_advanced/2_objectdetection/utils/data_augumentation.py:246: VisibleDeprecationWarning: Creating an ndarray from ragged nested sequences (which is a list-or-tuple of lists-or-tuples-or ndarrays with different lengths or shapes) is deprecated. If you meant to do this, you must specify 'dtype=object' when creating the ndarray.\n",
            "  mode = random.choice(self.sample_options)\n"
          ]
        },
        {
          "name": "stdout",
          "output_type": "stream",
          "text": [
            "イテレーション 1970 || Loss: 4.9527 || 10iter: 24.0573 sec.\n",
            "イテレーション 1980 || Loss: 4.8824 || 10iter: 238.6246 sec.\n",
            "イテレーション 1990 || Loss: 5.5789 || 10iter: 243.8909 sec.\n",
            "イテレーション 2000 || Loss: 4.7801 || 10iter: 239.4121 sec.\n",
            "イテレーション 2010 || Loss: 4.4671 || 10iter: 240.4602 sec.\n",
            "イテレーション 2020 || Loss: 4.8593 || 10iter: 241.4589 sec.\n",
            "イテレーション 2030 || Loss: 4.5725 || 10iter: 249.1694 sec.\n",
            "イテレーション 2040 || Loss: 4.9169 || 10iter: 240.1667 sec.\n",
            "イテレーション 2050 || Loss: 5.5488 || 10iter: 243.2979 sec.\n",
            "イテレーション 2060 || Loss: 5.0947 || 10iter: 245.1662 sec.\n",
            "イテレーション 2070 || Loss: 5.1847 || 10iter: 225.9420 sec.\n",
            "イテレーション 2080 || Loss: 4.8062 || 10iter: 221.7605 sec.\n",
            "イテレーション 2090 || Loss: 4.4033 || 10iter: 223.1805 sec.\n",
            "イテレーション 2100 || Loss: 5.0718 || 10iter: 219.0428 sec.\n",
            "イテレーション 2110 || Loss: 5.0305 || 10iter: 219.3323 sec.\n",
            "イテレーション 2120 || Loss: 4.5975 || 10iter: 213.0967 sec.\n",
            "イテレーション 2130 || Loss: 5.2876 || 10iter: 210.9174 sec.\n",
            "イテレーション 2140 || Loss: 5.0092 || 10iter: 211.0032 sec.\n",
            "-------------\n",
            "epoch 12 || Epoch_TRAIN_Loss:893.4969 ||Epoch_VAL_Loss:0.0000\n",
            "timer:  4112.0000 sec.\n",
            "-------------\n",
            "Epoch 13/50\n",
            "-------------\n",
            "（train）\n"
          ]
        },
        {
          "name": "stderr",
          "output_type": "stream",
          "text": [
            "/Users/sadahiroyoshi/Documents/apps/mygithub/pytorch_advanced/2_objectdetection/utils/data_augumentation.py:246: VisibleDeprecationWarning: Creating an ndarray from ragged nested sequences (which is a list-or-tuple of lists-or-tuples-or ndarrays with different lengths or shapes) is deprecated. If you meant to do this, you must specify 'dtype=object' when creating the ndarray.\n",
            "  mode = random.choice(self.sample_options)\n"
          ]
        },
        {
          "name": "stdout",
          "output_type": "stream",
          "text": [
            "イテレーション 2150 || Loss: 5.3523 || 10iter: 42.2877 sec.\n",
            "イテレーション 2160 || Loss: 4.9652 || 10iter: 211.2404 sec.\n",
            "イテレーション 2170 || Loss: 4.7366 || 10iter: 211.2707 sec.\n",
            "イテレーション 2180 || Loss: 5.3659 || 10iter: 210.8972 sec.\n",
            "イテレーション 2190 || Loss: 5.3126 || 10iter: 212.0569 sec.\n",
            "イテレーション 2200 || Loss: 4.6161 || 10iter: 210.7938 sec.\n",
            "イテレーション 2210 || Loss: 4.6564 || 10iter: 211.3430 sec.\n",
            "イテレーション 2220 || Loss: 5.3526 || 10iter: 211.3889 sec.\n",
            "イテレーション 2230 || Loss: 4.3684 || 10iter: 211.0658 sec.\n",
            "イテレーション 2240 || Loss: 5.0806 || 10iter: 211.1259 sec.\n",
            "イテレーション 2250 || Loss: 5.1168 || 10iter: 211.6088 sec.\n",
            "イテレーション 2260 || Loss: 4.8400 || 10iter: 211.2461 sec.\n",
            "イテレーション 2270 || Loss: 5.2291 || 10iter: 210.9380 sec.\n",
            "イテレーション 2280 || Loss: 5.0015 || 10iter: 210.9207 sec.\n",
            "イテレーション 2290 || Loss: 4.9957 || 10iter: 211.3274 sec.\n",
            "イテレーション 2300 || Loss: 4.8223 || 10iter: 211.1317 sec.\n",
            "イテレーション 2310 || Loss: 4.7493 || 10iter: 211.0896 sec.\n",
            "イテレーション 2320 || Loss: 4.8810 || 10iter: 210.8864 sec.\n",
            "-------------\n",
            "epoch 13 || Epoch_TRAIN_Loss:880.9408 ||Epoch_VAL_Loss:0.0000\n",
            "timer:  3773.5137 sec.\n",
            "-------------\n",
            "Epoch 14/50\n",
            "-------------\n",
            "（train）\n"
          ]
        },
        {
          "name": "stderr",
          "output_type": "stream",
          "text": [
            "/Users/sadahiroyoshi/Documents/apps/mygithub/pytorch_advanced/2_objectdetection/utils/data_augumentation.py:246: VisibleDeprecationWarning: Creating an ndarray from ragged nested sequences (which is a list-or-tuple of lists-or-tuples-or ndarrays with different lengths or shapes) is deprecated. If you meant to do this, you must specify 'dtype=object' when creating the ndarray.\n",
            "  mode = random.choice(self.sample_options)\n"
          ]
        },
        {
          "name": "stdout",
          "output_type": "stream",
          "text": [
            "イテレーション 2330 || Loss: 5.0467 || 10iter: 63.3145 sec.\n",
            "イテレーション 2340 || Loss: 4.8154 || 10iter: 211.3026 sec.\n",
            "イテレーション 2350 || Loss: 4.4694 || 10iter: 211.1566 sec.\n",
            "イテレーション 2360 || Loss: 4.9494 || 10iter: 211.7487 sec.\n",
            "イテレーション 2370 || Loss: 4.8043 || 10iter: 210.9713 sec.\n",
            "イテレーション 2380 || Loss: 4.7183 || 10iter: 211.1769 sec.\n",
            "イテレーション 2390 || Loss: 5.0157 || 10iter: 211.1886 sec.\n",
            "イテレーション 2400 || Loss: 4.4644 || 10iter: 211.4689 sec.\n",
            "イテレーション 2410 || Loss: 4.5362 || 10iter: 211.2332 sec.\n",
            "イテレーション 2420 || Loss: 5.0234 || 10iter: 212.3508 sec.\n",
            "イテレーション 2430 || Loss: 5.1444 || 10iter: 212.8439 sec.\n",
            "イテレーション 2440 || Loss: 5.3556 || 10iter: 212.5175 sec.\n",
            "イテレーション 2450 || Loss: 4.7310 || 10iter: 212.6666 sec.\n",
            "イテレーション 2460 || Loss: 4.7371 || 10iter: 215.1173 sec.\n",
            "イテレーション 2470 || Loss: 5.1366 || 10iter: 218.9670 sec.\n",
            "イテレーション 2480 || Loss: 4.5135 || 10iter: 222.8905 sec.\n",
            "イテレーション 2490 || Loss: 4.7197 || 10iter: 212.6716 sec.\n",
            "イテレーション 2500 || Loss: 5.2012 || 10iter: 212.5160 sec.\n",
            "-------------\n",
            "epoch 14 || Epoch_TRAIN_Loss:858.3592 ||Epoch_VAL_Loss:0.0000\n",
            "timer:  3811.6645 sec.\n",
            "-------------\n",
            "Epoch 15/50\n",
            "-------------\n",
            "（train）\n"
          ]
        },
        {
          "name": "stderr",
          "output_type": "stream",
          "text": [
            "/Users/sadahiroyoshi/Documents/apps/mygithub/pytorch_advanced/2_objectdetection/utils/data_augumentation.py:246: VisibleDeprecationWarning: Creating an ndarray from ragged nested sequences (which is a list-or-tuple of lists-or-tuples-or ndarrays with different lengths or shapes) is deprecated. If you meant to do this, you must specify 'dtype=object' when creating the ndarray.\n",
            "  mode = random.choice(self.sample_options)\n"
          ]
        },
        {
          "name": "stdout",
          "output_type": "stream",
          "text": [
            "イテレーション 2510 || Loss: 4.0525 || 10iter: 92.0791 sec.\n",
            "イテレーション 2520 || Loss: 4.5141 || 10iter: 236.2658 sec.\n",
            "イテレーション 2530 || Loss: 5.2554 || 10iter: 234.2589 sec.\n",
            "イテレーション 2540 || Loss: 5.1461 || 10iter: 232.5716 sec.\n",
            "イテレーション 2550 || Loss: 4.5904 || 10iter: 238.8594 sec.\n",
            "イテレーション 2560 || Loss: 4.5299 || 10iter: 229.2331 sec.\n",
            "イテレーション 2570 || Loss: 4.1441 || 10iter: 226.5229 sec.\n",
            "イテレーション 2580 || Loss: 4.9994 || 10iter: 249.6842 sec.\n",
            "イテレーション 2590 || Loss: 4.4424 || 10iter: 238.4475 sec.\n",
            "イテレーション 2600 || Loss: 4.1194 || 10iter: 232.7175 sec.\n",
            "イテレーション 2610 || Loss: 4.8793 || 10iter: 239.9348 sec.\n",
            "イテレーション 2620 || Loss: 4.9963 || 10iter: 234.2479 sec.\n",
            "イテレーション 2630 || Loss: 4.9602 || 10iter: 219.8666 sec.\n",
            "イテレーション 2640 || Loss: 4.2944 || 10iter: 214.3247 sec.\n",
            "イテレーション 2650 || Loss: 4.4037 || 10iter: 212.6956 sec.\n",
            "イテレーション 2660 || Loss: 4.1916 || 10iter: 212.8117 sec.\n",
            "イテレーション 2670 || Loss: 4.5882 || 10iter: 212.8966 sec.\n",
            "イテレーション 2680 || Loss: 4.7072 || 10iter: 212.7610 sec.\n",
            "-------------\n",
            "epoch 15 || Epoch_TRAIN_Loss:839.8923 ||Epoch_VAL_Loss:0.0000\n",
            "timer:  4070.7594 sec.\n",
            "-------------\n",
            "Epoch 16/50\n",
            "-------------\n",
            "（train）\n"
          ]
        },
        {
          "name": "stderr",
          "output_type": "stream",
          "text": [
            "/Users/sadahiroyoshi/Documents/apps/mygithub/pytorch_advanced/2_objectdetection/utils/data_augumentation.py:246: VisibleDeprecationWarning: Creating an ndarray from ragged nested sequences (which is a list-or-tuple of lists-or-tuples-or ndarrays with different lengths or shapes) is deprecated. If you meant to do this, you must specify 'dtype=object' when creating the ndarray.\n",
            "  mode = random.choice(self.sample_options)\n"
          ]
        },
        {
          "name": "stdout",
          "output_type": "stream",
          "text": [
            "イテレーション 2690 || Loss: 4.7359 || 10iter: 108.0674 sec.\n",
            "イテレーション 2700 || Loss: 5.2184 || 10iter: 213.5580 sec.\n",
            "イテレーション 2710 || Loss: 4.2949 || 10iter: 212.6564 sec.\n",
            "イテレーション 2720 || Loss: 4.4164 || 10iter: 212.8641 sec.\n",
            "イテレーション 2730 || Loss: 4.8294 || 10iter: 212.8943 sec.\n",
            "イテレーション 2740 || Loss: 4.3884 || 10iter: 212.9931 sec.\n",
            "イテレーション 2750 || Loss: 4.4783 || 10iter: 213.3616 sec.\n",
            "イテレーション 2760 || Loss: 4.8638 || 10iter: 212.7738 sec.\n",
            "イテレーション 2770 || Loss: 5.5408 || 10iter: 230.8474 sec.\n",
            "イテレーション 2780 || Loss: 4.8313 || 10iter: 220.7719 sec.\n",
            "イテレーション 2790 || Loss: 4.6256 || 10iter: 214.6065 sec.\n",
            "イテレーション 2800 || Loss: 4.4432 || 10iter: 231.4739 sec.\n",
            "イテレーション 2810 || Loss: 4.4393 || 10iter: 232.7577 sec.\n",
            "イテレーション 2820 || Loss: 4.9158 || 10iter: 219.8017 sec.\n",
            "イテレーション 2830 || Loss: 4.8103 || 10iter: 226.1374 sec.\n",
            "イテレーション 2840 || Loss: 4.5506 || 10iter: 230.5787 sec.\n",
            "イテレーション 2850 || Loss: 5.1544 || 10iter: 239.7861 sec.\n",
            "イテレーション 2860 || Loss: 4.3809 || 10iter: 229.9512 sec.\n",
            "-------------\n",
            "epoch 16 || Epoch_TRAIN_Loss:829.0409 ||Epoch_VAL_Loss:0.0000\n",
            "timer:  3954.2998 sec.\n",
            "-------------\n",
            "Epoch 17/50\n",
            "-------------\n",
            "（train）\n"
          ]
        },
        {
          "name": "stderr",
          "output_type": "stream",
          "text": [
            "/Users/sadahiroyoshi/Documents/apps/mygithub/pytorch_advanced/2_objectdetection/utils/data_augumentation.py:246: VisibleDeprecationWarning: Creating an ndarray from ragged nested sequences (which is a list-or-tuple of lists-or-tuples-or ndarrays with different lengths or shapes) is deprecated. If you meant to do this, you must specify 'dtype=object' when creating the ndarray.\n",
            "  mode = random.choice(self.sample_options)\n"
          ]
        },
        {
          "name": "stdout",
          "output_type": "stream",
          "text": [
            "イテレーション 2870 || Loss: 4.7590 || 10iter: 138.7133 sec.\n",
            "イテレーション 2880 || Loss: 4.6898 || 10iter: 227.2483 sec.\n",
            "イテレーション 2890 || Loss: 4.3457 || 10iter: 225.0287 sec.\n",
            "イテレーション 2900 || Loss: 4.5397 || 10iter: 215.9531 sec.\n",
            "イテレーション 2910 || Loss: 4.4417 || 10iter: 215.6854 sec.\n",
            "イテレーション 2920 || Loss: 4.4076 || 10iter: 223.9559 sec.\n",
            "イテレーション 2930 || Loss: 4.3535 || 10iter: 216.3601 sec.\n",
            "イテレーション 2940 || Loss: 4.5616 || 10iter: 215.4821 sec.\n",
            "イテレーション 2950 || Loss: 4.6238 || 10iter: 218.3934 sec.\n",
            "イテレーション 2960 || Loss: 5.0497 || 10iter: 213.0430 sec.\n",
            "イテレーション 2970 || Loss: 4.4168 || 10iter: 215.0185 sec.\n",
            "イテレーション 2980 || Loss: 4.7344 || 10iter: 212.4882 sec.\n",
            "イテレーション 2990 || Loss: 4.7298 || 10iter: 212.3794 sec.\n",
            "イテレーション 3000 || Loss: 4.5118 || 10iter: 212.6536 sec.\n",
            "イテレーション 3010 || Loss: 4.7594 || 10iter: 212.9143 sec.\n",
            "イテレーション 3020 || Loss: 4.7468 || 10iter: 213.8496 sec.\n",
            "イテレーション 3030 || Loss: 4.7117 || 10iter: 212.8452 sec.\n",
            "イテレーション 3040 || Loss: 4.4977 || 10iter: 213.0324 sec.\n",
            "-------------\n",
            "epoch 17 || Epoch_TRAIN_Loss:827.5029 ||Epoch_VAL_Loss:0.0000\n",
            "timer:  3871.6838 sec.\n",
            "-------------\n",
            "Epoch 18/50\n",
            "-------------\n",
            "（train）\n"
          ]
        },
        {
          "name": "stderr",
          "output_type": "stream",
          "text": [
            "/Users/sadahiroyoshi/Documents/apps/mygithub/pytorch_advanced/2_objectdetection/utils/data_augumentation.py:246: VisibleDeprecationWarning: Creating an ndarray from ragged nested sequences (which is a list-or-tuple of lists-or-tuples-or ndarrays with different lengths or shapes) is deprecated. If you meant to do this, you must specify 'dtype=object' when creating the ndarray.\n",
            "  mode = random.choice(self.sample_options)\n"
          ]
        },
        {
          "name": "stdout",
          "output_type": "stream",
          "text": [
            "イテレーション 3050 || Loss: 4.0294 || 10iter: 150.1710 sec.\n",
            "イテレーション 3060 || Loss: 4.6647 || 10iter: 214.6690 sec.\n",
            "イテレーション 3070 || Loss: 4.6153 || 10iter: 213.1029 sec.\n",
            "イテレーション 3080 || Loss: 4.3959 || 10iter: 212.4732 sec.\n",
            "イテレーション 3090 || Loss: 4.8897 || 10iter: 212.9054 sec.\n",
            "イテレーション 3100 || Loss: 4.6793 || 10iter: 212.5021 sec.\n",
            "イテレーション 3110 || Loss: 3.9761 || 10iter: 213.2154 sec.\n",
            "イテレーション 3120 || Loss: 4.9317 || 10iter: 212.7779 sec.\n",
            "イテレーション 3130 || Loss: 4.4118 || 10iter: 212.5845 sec.\n",
            "イテレーション 3140 || Loss: 4.9594 || 10iter: 216.0600 sec.\n",
            "イテレーション 3150 || Loss: 4.6450 || 10iter: 212.5044 sec.\n",
            "イテレーション 3160 || Loss: 4.2942 || 10iter: 230.9631 sec.\n",
            "イテレーション 3170 || Loss: 5.1850 || 10iter: 228.5765 sec.\n",
            "イテレーション 3180 || Loss: 4.6021 || 10iter: 234.3765 sec.\n",
            "イテレーション 3190 || Loss: 4.4396 || 10iter: 222.8322 sec.\n",
            "イテレーション 3200 || Loss: 4.4706 || 10iter: 225.9576 sec.\n",
            "イテレーション 3210 || Loss: 4.5859 || 10iter: 230.6247 sec.\n",
            "イテレーション 3220 || Loss: 4.3540 || 10iter: 225.9765 sec.\n",
            "-------------\n",
            "epoch 18 || Epoch_TRAIN_Loss:813.0174 ||Epoch_VAL_Loss:0.0000\n",
            "timer:  3921.2917 sec.\n",
            "-------------\n",
            "Epoch 19/50\n",
            "-------------\n",
            "（train）\n"
          ]
        },
        {
          "name": "stderr",
          "output_type": "stream",
          "text": [
            "/Users/sadahiroyoshi/Documents/apps/mygithub/pytorch_advanced/2_objectdetection/utils/data_augumentation.py:246: VisibleDeprecationWarning: Creating an ndarray from ragged nested sequences (which is a list-or-tuple of lists-or-tuples-or ndarrays with different lengths or shapes) is deprecated. If you meant to do this, you must specify 'dtype=object' when creating the ndarray.\n",
            "  mode = random.choice(self.sample_options)\n"
          ]
        },
        {
          "name": "stdout",
          "output_type": "stream",
          "text": [
            "イテレーション 3230 || Loss: 4.2279 || 10iter: 179.6365 sec.\n",
            "イテレーション 3240 || Loss: 4.0767 || 10iter: 222.4386 sec.\n",
            "イテレーション 3250 || Loss: 4.6060 || 10iter: 221.7786 sec.\n",
            "イテレーション 3260 || Loss: 4.1811 || 10iter: 236.4171 sec.\n",
            "イテレーション 3270 || Loss: 4.3967 || 10iter: 237.9147 sec.\n",
            "イテレーション 3280 || Loss: 4.5125 || 10iter: 220.7788 sec.\n",
            "イテレーション 3290 || Loss: 4.2316 || 10iter: 226.4430 sec.\n",
            "イテレーション 3300 || Loss: 4.8699 || 10iter: 216.8205 sec.\n",
            "イテレーション 3310 || Loss: 4.6037 || 10iter: 215.3679 sec.\n",
            "イテレーション 3320 || Loss: 4.6456 || 10iter: 215.4122 sec.\n",
            "イテレーション 3330 || Loss: 3.7827 || 10iter: 213.0359 sec.\n",
            "イテレーション 3340 || Loss: 4.5761 || 10iter: 211.0557 sec.\n",
            "イテレーション 3350 || Loss: 4.9560 || 10iter: 213.0929 sec.\n",
            "イテレーション 3360 || Loss: 4.3570 || 10iter: 213.4968 sec.\n",
            "イテレーション 3370 || Loss: 3.7871 || 10iter: 212.8679 sec.\n",
            "イテレーション 3380 || Loss: 4.2252 || 10iter: 216.2275 sec.\n",
            "イテレーション 3390 || Loss: 4.2542 || 10iter: 212.3776 sec.\n",
            "イテレーション 3400 || Loss: 4.6654 || 10iter: 212.3638 sec.\n",
            "-------------\n",
            "epoch 19 || Epoch_TRAIN_Loss:794.0723 ||Epoch_VAL_Loss:0.0000\n",
            "timer:  3911.5292 sec.\n",
            "-------------\n",
            "Epoch 20/50\n",
            "-------------\n",
            "（train）\n"
          ]
        },
        {
          "name": "stderr",
          "output_type": "stream",
          "text": [
            "/Users/sadahiroyoshi/Documents/apps/mygithub/pytorch_advanced/2_objectdetection/utils/data_augumentation.py:246: VisibleDeprecationWarning: Creating an ndarray from ragged nested sequences (which is a list-or-tuple of lists-or-tuples-or ndarrays with different lengths or shapes) is deprecated. If you meant to do this, you must specify 'dtype=object' when creating the ndarray.\n",
            "  mode = random.choice(self.sample_options)\n"
          ]
        },
        {
          "name": "stdout",
          "output_type": "stream",
          "text": [
            "イテレーション 3410 || Loss: 4.4441 || 10iter: 190.9428 sec.\n",
            "イテレーション 3420 || Loss: 4.4974 || 10iter: 212.5516 sec.\n",
            "イテレーション 3430 || Loss: 4.0508 || 10iter: 211.4168 sec.\n",
            "イテレーション 3440 || Loss: 4.3461 || 10iter: 230.9340 sec.\n",
            "イテレーション 3450 || Loss: 4.1018 || 10iter: 230.0077 sec.\n",
            "イテレーション 3460 || Loss: 4.2959 || 10iter: 219.9004 sec.\n",
            "イテレーション 3470 || Loss: 4.5836 || 10iter: 220.0517 sec.\n",
            "イテレーション 3480 || Loss: 4.9729 || 10iter: 217.4121 sec.\n",
            "イテレーション 3490 || Loss: 4.3946 || 10iter: 214.8045 sec.\n",
            "イテレーション 3500 || Loss: 4.6895 || 10iter: 235.7880 sec.\n",
            "イテレーション 3510 || Loss: 4.8740 || 10iter: 238.4052 sec.\n",
            "イテレーション 3520 || Loss: 4.0771 || 10iter: 233.7517 sec.\n",
            "イテレーション 3530 || Loss: 4.1755 || 10iter: 214.1058 sec.\n",
            "イテレーション 3540 || Loss: 4.6049 || 10iter: 213.5697 sec.\n",
            "イテレーション 3550 || Loss: 4.7765 || 10iter: 221.4950 sec.\n",
            "イテレーション 3560 || Loss: 3.9749 || 10iter: 229.8259 sec.\n",
            "イテレーション 3570 || Loss: 4.6201 || 10iter: 231.6271 sec.\n",
            "イテレーション 3580 || Loss: 4.6185 || 10iter: 233.2474 sec.\n",
            "-------------\n",
            "（val）\n",
            "-------------\n",
            "epoch 20 || Epoch_TRAIN_Loss:786.4137 ||Epoch_VAL_Loss:822.7702\n",
            "timer:  5555.4726 sec.\n",
            "-------------\n",
            "Epoch 21/50\n",
            "-------------\n",
            "（train）\n"
          ]
        },
        {
          "name": "stderr",
          "output_type": "stream",
          "text": [
            "/Users/sadahiroyoshi/Documents/apps/mygithub/pytorch_advanced/2_objectdetection/utils/data_augumentation.py:246: VisibleDeprecationWarning: Creating an ndarray from ragged nested sequences (which is a list-or-tuple of lists-or-tuples-or ndarrays with different lengths or shapes) is deprecated. If you meant to do this, you must specify 'dtype=object' when creating the ndarray.\n",
            "  mode = random.choice(self.sample_options)\n"
          ]
        },
        {
          "name": "stdout",
          "output_type": "stream",
          "text": [
            "イテレーション 3590 || Loss: 4.5889 || 10iter: 267.3543 sec.\n"
          ]
        }
      ],
      "source": [
        "# 学習・検証を実行する\n",
        "num_epochs= 50  \n",
        "train_model(net, dataloaders_dict, criterion, optimizer, num_epochs=num_epochs)"
      ]
    },
    {
      "cell_type": "markdown",
      "metadata": {
        "id": "KAXU63BxJvlP"
      },
      "source": [
        "以上"
      ]
    }
  ],
  "metadata": {
    "colab": {
      "collapsed_sections": [],
      "name": "2-7_SSD_training.ipynb",
      "provenance": []
    },
    "kernelspec": {
      "display_name": "torch-gpu",
      "language": "python",
      "name": "python3"
    },
    "language_info": {
      "codemirror_mode": {
        "name": "ipython",
        "version": 3
      },
      "file_extension": ".py",
      "mimetype": "text/x-python",
      "name": "python",
      "nbconvert_exporter": "python",
      "pygments_lexer": "ipython3",
      "version": "3.9.13"
    },
    "vscode": {
      "interpreter": {
        "hash": "02329bf1d2ef353cfeb9f9f16f268463e1fccda9fcd6d90ad67f8f512538e180"
      }
    }
  },
  "nbformat": 4,
  "nbformat_minor": 0
}
